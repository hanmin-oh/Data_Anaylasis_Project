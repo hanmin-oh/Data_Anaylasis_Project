{
 "cells": [
  {
   "cell_type": "code",
   "execution_count": null,
   "id": "694962e2",
   "metadata": {},
   "outputs": [],
   "source": [
    "import warnings\n",
    "warnings.filterwarnings(action='ignore')\n",
    "%config Computer.use_jedi = False\n",
    "import numpy as np\n",
    "import pandas as pd\n",
    "import requests"
   ]
  },
  {
   "cell_type": "markdown",
   "id": "2322f7ea",
   "metadata": {},
   "source": [
    "# 네이버 지오코딩 가이드\n",
    "\n",
    "https://api.ncloud-docs.com/docs/ai-naver-mapsreversegeocoding-gc#%EC%9A%94%EC%B2%AD-%EC%98%88%EC%8B%9C"
   ]
  },
  {
   "cell_type": "code",
   "execution_count": null,
   "id": "06651d62",
   "metadata": {},
   "outputs": [],
   "source": [
    "# 네이버 개발자 포털에서 발급한 Client ID와 Client Secret\n",
    "client_id = '5j924usqjd'\n",
    "client_secret = 'W4wjDI2jRzuvP1N0zo9UiG1zTRoDP30idjpESbp4'\n",
    "\n",
    "# '위도'와 '경도' 칼럼을 추가합니다.\n",
    "house['위도'] = None\n",
    "house['경도'] = None\n",
    "\n",
    "# 네이버 지오코딩 API를 호출하여 주소별 위도와 경도를 얻습니다.\n",
    "for index, row in house.iterrows():\n",
    "    address = row['법정동']\n",
    "    url = f'https://naveropenapi.apigw.ntruss.com/map-geocode/v2/geocode?query={address}'\n",
    "    headers = {\n",
    "        'X-NCP-APIGW-API-KEY-ID': client_id,\n",
    "        'X-NCP-APIGW-API-KEY': client_secret\n",
    "    }\n",
    "    response = requests.get(url, headers=headers)\n",
    "    \n",
    "    if response.status_code == 200:\n",
    "        data = response.json()\n",
    "        if data.get('addresses'):\n",
    "            latitude = data['addresses'][0]['y']\n",
    "            longitude = data['addresses'][0]['x']\n",
    "            house.at[index, '위도'] = latitude\n",
    "            house.at[index, '경도'] = longitude\n",
    "\n",
    "# 결과를 출력합니다.\n",
    "house"
   ]
  },
  {
   "cell_type": "markdown",
   "id": "19aaada8",
   "metadata": {},
   "source": [
    "# 카카오 지오코딩 가이드\n",
    "\n",
    "https://developers.kakao.com/docs/latest/ko/local/dev-guide\n",
    "\n",
    "\n",
    "\n",
    "\n"
   ]
  },
  {
   "cell_type": "code",
   "execution_count": null,
   "id": "7e8f1a01",
   "metadata": {},
   "outputs": [],
   "source": [
    "# 카카오맵 API Key\n",
    "kakao_api_key = '146c824df784569973cb17777ddd3301'\n",
    "\n",
    "# '위도'와 '경도' 칼럼을 추가합니다.\n",
    "house['위도'] = None\n",
    "house['경도'] = None\n",
    "\n",
    "# 카카오맵 API를 호출하여 주소별 위도와 경도를 얻습니다.\n",
    "for index, row in house.iterrows():\n",
    "    address = row['법정동']\n",
    "    url = f'https://dapi.kakao.com/v2/local/search/address.json?query={address}'\n",
    "    headers = {\n",
    "        'Authorization': f'KakaoAK {kakao_api_key}'\n",
    "    }\n",
    "    response = requests.get(url, headers=headers)\n",
    "    \n",
    "    if response.status_code == 200:\n",
    "        data = response.json()\n",
    "        if data.get('documents'):\n",
    "            latitude = data['documents'][0]['y']\n",
    "            longitude = data['documents'][0]['x']\n",
    "            house.at[index, '위도'] = latitude\n",
    "            house.at[index, '경도'] = longitude\n",
    "\n",
    "# 결과를 출력합니다.\n",
    "house\n"
   ]
  },
  {
   "cell_type": "code",
   "execution_count": null,
   "id": "90bca612",
   "metadata": {},
   "outputs": [],
   "source": [
    "# 카카오맵 API Key\n",
    "kakao_api_key = '146c824df784569973cb17777ddd3301'\n",
    "# '위도'와 '경도' 칼럼을 추가합니다.\n",
    "house_test['행정동'] = None\n",
    "house_test['행정코드'] = None\n",
    "house_test['법정코드'] = None\n",
    "\n",
    "\n",
    "# 카카오맵 API를 호출하여 주소별 위도, 경도 및 행정동명을 얻습니다.\n",
    "for index, row in house_test.iterrows():\n",
    "    latitude = row['위도']\n",
    "    longitude = row['경도']\n",
    "    \n",
    "    url = f'https://dapi.kakao.com/v2/local/geo/coord2regioncode.json?x={longitude}&y={latitude}'\n",
    "    headers = {\n",
    "        'Authorization': f'KakaoAK {kakao_api_key}'\n",
    "    }\n",
    "    response = requests.get(url, headers=headers)\n",
    "    \n",
    "    if response.status_code == 200:\n",
    "        data = response.json()\n",
    "        print(data)\n",
    "        if data.get('documents'):\n",
    "            administrative_district1 = data['documents'][0]['region_3depth_name']\n",
    "#             administrative_district2 = data['documents'][1]['h_code']\n",
    "#             administrative_district3 = data['documents'][2]['b_code']\n",
    "            \n",
    "            house_test.at[index, '행정동'] = administrative_district1\n",
    "#             house_test.at[index, '행정코드'] = administrative_district2\n",
    "#             house_test.at[index, '법정코드'] = administrative_district3\n",
    "\n",
    "# 결과를 출력합니다.\n",
    "house_test\n"
   ]
  },
  {
   "cell_type": "code",
   "execution_count": null,
   "id": "2c503d21",
   "metadata": {},
   "outputs": [],
   "source": []
  },
  {
   "cell_type": "code",
   "execution_count": null,
   "id": "fbb1d265",
   "metadata": {},
   "outputs": [],
   "source": []
  },
  {
   "cell_type": "code",
   "execution_count": null,
   "id": "e427854e",
   "metadata": {},
   "outputs": [],
   "source": []
  },
  {
   "cell_type": "code",
   "execution_count": null,
   "id": "96bd98d9",
   "metadata": {},
   "outputs": [],
   "source": []
  },
  {
   "cell_type": "code",
   "execution_count": null,
   "id": "393a6daf",
   "metadata": {},
   "outputs": [],
   "source": []
  },
  {
   "cell_type": "code",
   "execution_count": null,
   "id": "14f0a3ad",
   "metadata": {},
   "outputs": [],
   "source": []
  },
  {
   "cell_type": "code",
   "execution_count": null,
   "id": "c3b92add",
   "metadata": {},
   "outputs": [],
   "source": []
  },
  {
   "cell_type": "code",
   "execution_count": null,
   "id": "a19fa137",
   "metadata": {},
   "outputs": [],
   "source": []
  },
  {
   "cell_type": "code",
   "execution_count": null,
   "id": "4bba99b6",
   "metadata": {},
   "outputs": [],
   "source": []
  },
  {
   "cell_type": "code",
   "execution_count": null,
   "id": "7824d438",
   "metadata": {},
   "outputs": [],
   "source": []
  },
  {
   "cell_type": "code",
   "execution_count": null,
   "id": "acfbf792",
   "metadata": {},
   "outputs": [],
   "source": []
  },
  {
   "cell_type": "code",
   "execution_count": null,
   "id": "fca7da7d",
   "metadata": {},
   "outputs": [],
   "source": []
  }
 ],
 "metadata": {
  "kernelspec": {
   "display_name": "Python 3 (ipykernel)",
   "language": "python",
   "name": "python3"
  },
  "language_info": {
   "codemirror_mode": {
    "name": "ipython",
    "version": 3
   },
   "file_extension": ".py",
   "mimetype": "text/x-python",
   "name": "python",
   "nbconvert_exporter": "python",
   "pygments_lexer": "ipython3",
   "version": "3.7.16"
  }
 },
 "nbformat": 4,
 "nbformat_minor": 5
}
