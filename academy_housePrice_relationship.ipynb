{
 "cells": [
  {
   "cell_type": "markdown",
   "id": "d7d41360",
   "metadata": {},
   "source": [
    "보통 강남의 집값은 학군지의 성격도 강하다는 것을 알 수 있다.\n",
    "\n",
    "그렇다면 타 지역의 경우에도 학원 수가 많은 곳이 집값이 더 좋을까??\n",
    "\n",
    "이러한 상관관계를 알아보고자 하였다"
   ]
  },
  {
   "cell_type": "code",
   "execution_count": null,
   "id": "dfa92b07",
   "metadata": {},
   "outputs": [],
   "source": []
  },
  {
   "cell_type": "code",
   "execution_count": null,
   "id": "8e12bf6d",
   "metadata": {},
   "outputs": [],
   "source": []
  }
 ],
 "metadata": {
  "kernelspec": {
   "display_name": "Python 3 (ipykernel)",
   "language": "python",
   "name": "python3"
  },
  "language_info": {
   "codemirror_mode": {
    "name": "ipython",
    "version": 3
   },
   "file_extension": ".py",
   "mimetype": "text/x-python",
   "name": "python",
   "nbconvert_exporter": "python",
   "pygments_lexer": "ipython3",
   "version": "3.7.16"
  }
 },
 "nbformat": 4,
 "nbformat_minor": 5
}
